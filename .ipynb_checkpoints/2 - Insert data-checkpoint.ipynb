{
 "cells": [
  {
   "cell_type": "code",
   "execution_count": 1,
   "metadata": {
    "collapsed": true
   },
   "outputs": [],
   "source": [
    "import pandas as pd\n",
    "import psycopg2\n",
    "import datetime"
   ]
  },
  {
   "cell_type": "code",
   "execution_count": 2,
   "metadata": {
    "collapsed": true
   },
   "outputs": [],
   "source": [
    "host = \"localhost\"\n",
    "database = \"jobdb\"\n",
    "user = \"jobuser\"\n",
    "password = \"jobpw\""
   ]
  },
  {
   "cell_type": "code",
   "execution_count": 3,
   "metadata": {
    "collapsed": true
   },
   "outputs": [],
   "source": [
    "conn = psycopg2.connect(host=host,database=database, user=user, password=password)"
   ]
  },
  {
   "cell_type": "code",
   "execution_count": 4,
   "metadata": {
    "collapsed": true
   },
   "outputs": [],
   "source": [
    "# Read in the results from the scraper\n",
    "\n",
    "df = pd.read_csv('jobs.csv')"
   ]
  },
  {
   "cell_type": "code",
   "execution_count": 5,
   "metadata": {
    "collapsed": false
   },
   "outputs": [],
   "source": [
    "# Remove the index column\n",
    "\n",
    "df.drop(df.columns[0], axis=1, inplace=True)"
   ]
  },
  {
   "cell_type": "code",
   "execution_count": 6,
   "metadata": {
    "collapsed": true
   },
   "outputs": [],
   "source": [
    "# Our database doesn't like our apostrophes, we can just delete them\n",
    "\n",
    "df['summary'].replace(regex=True,inplace=True,to_replace='\\047',value='')\n",
    "df['job_title'].replace(regex=True,inplace=True,to_replace='\\047',value='')\n",
    "df['company_name'].replace(regex=True,inplace=True,to_replace='\\047',value='')"
   ]
  },
  {
   "cell_type": "code",
   "execution_count": 7,
   "metadata": {
    "collapsed": false
   },
   "outputs": [],
   "source": [
    "# Keep a timestamp so we know how long we've had each job listing for\n",
    "\n",
    "now = datetime.datetime.now()"
   ]
  },
  {
   "cell_type": "code",
   "execution_count": 8,
   "metadata": {
    "collapsed": false
   },
   "outputs": [],
   "source": [
    "# Iterate through the scraped job listings and insert them into the database\n",
    "\n",
    "for index, row in df.iterrows():\n",
    "    command = \"\"\"\n",
    "    INSERT INTO jobs (job_title, company_name, location, summary, first_found, last_found)\n",
    "    VALUES\n",
    "    ('\"\"\" + row['job_title'] + \"\"\"','\"\"\" + row['company_name'] + \"\"\"','\"\"\" + row['location'] + \"\"\"','\"\"\" + row['summary'] + \"\"\"','\"\"\" + now.strftime(\"%Y-%m-%d %H:%M\") +\"\"\"', '\"\"\" +now.strftime(\"%Y-%m-%d %H:%M\")+ \"\"\"');\"\"\"\n",
    "    \n",
    "    cur = conn.cursor()\n",
    "    cur.execute(command)\n",
    "    cur.close()\n",
    "    conn.commit()"
   ]
  }
 ],
 "metadata": {
  "kernelspec": {
   "display_name": "Python 2",
   "language": "python",
   "name": "python2"
  },
  "language_info": {
   "codemirror_mode": {
    "name": "ipython",
    "version": 2
   },
   "file_extension": ".py",
   "mimetype": "text/x-python",
   "name": "python",
   "nbconvert_exporter": "python",
   "pygments_lexer": "ipython2",
   "version": "2.7.13"
  }
 },
 "nbformat": 4,
 "nbformat_minor": 2
}
