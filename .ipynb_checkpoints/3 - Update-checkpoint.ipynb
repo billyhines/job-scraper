{
 "cells": [
  {
   "cell_type": "code",
   "execution_count": 14,
   "metadata": {
    "collapsed": true
   },
   "outputs": [],
   "source": [
    "import pandas as pd\n",
    "import psycopg2\n",
    "import datetime"
   ]
  },
  {
   "cell_type": "code",
   "execution_count": 15,
   "metadata": {
    "collapsed": true
   },
   "outputs": [],
   "source": [
    "host = \"localhost\"\n",
    "database = \"jobdb\"\n",
    "user = \"jobuser\"\n",
    "password = \"jobpw\""
   ]
  },
  {
   "cell_type": "code",
   "execution_count": 16,
   "metadata": {
    "collapsed": true
   },
   "outputs": [],
   "source": [
    "conn = psycopg2.connect(host=host,database=database, user=user, password=password)"
   ]
  },
  {
   "cell_type": "code",
   "execution_count": 17,
   "metadata": {
    "collapsed": true
   },
   "outputs": [],
   "source": [
    "# Read in the results from the scraper\n",
    "\n",
    "df = pd.read_csv('jobs.csv')"
   ]
  },
  {
   "cell_type": "code",
   "execution_count": 18,
   "metadata": {
    "collapsed": false
   },
   "outputs": [],
   "source": [
    "# Remove the index column\n",
    "\n",
    "df.drop(df.columns[0], axis=1, inplace=True)"
   ]
  },
  {
   "cell_type": "code",
   "execution_count": 19,
   "metadata": {
    "collapsed": false
   },
   "outputs": [
    {
     "data": {
      "text/html": [
       "<div>\n",
       "<style>\n",
       "    .dataframe thead tr:only-child th {\n",
       "        text-align: right;\n",
       "    }\n",
       "\n",
       "    .dataframe thead th {\n",
       "        text-align: left;\n",
       "    }\n",
       "\n",
       "    .dataframe tbody tr th {\n",
       "        vertical-align: top;\n",
       "    }\n",
       "</style>\n",
       "<table border=\"1\" class=\"dataframe\">\n",
       "  <thead>\n",
       "    <tr style=\"text-align: right;\">\n",
       "      <th></th>\n",
       "      <th>job_title</th>\n",
       "      <th>company_name</th>\n",
       "      <th>location</th>\n",
       "      <th>summary</th>\n",
       "    </tr>\n",
       "  </thead>\n",
       "  <tbody>\n",
       "    <tr>\n",
       "      <th>0</th>\n",
       "      <td>Reporting Analyst</td>\n",
       "      <td>21Tech</td>\n",
       "      <td>Boston, MA</td>\n",
       "      <td>Talent Table is looking for aReporting Analyst...</td>\n",
       "    </tr>\n",
       "    <tr>\n",
       "      <th>1</th>\n",
       "      <td>Data Analyst</td>\n",
       "      <td>ABIS Solutions</td>\n",
       "      <td>Boston, MA</td>\n",
       "      <td>Proven working experience as a Data Analyst or...</td>\n",
       "    </tr>\n",
       "    <tr>\n",
       "      <th>2</th>\n",
       "      <td>Analyst, (Boston)</td>\n",
       "      <td>AMP Agency</td>\n",
       "      <td>Boston, MA 02114 (Back Bay-Beacon Hill area)</td>\n",
       "      <td>Support the team in contextualizing data trend...</td>\n",
       "    </tr>\n",
       "    <tr>\n",
       "      <th>3</th>\n",
       "      <td>Business Intelligence Analyst</td>\n",
       "      <td>ActioNet, Inc.</td>\n",
       "      <td>Cambridge, MA</td>\n",
       "      <td>ActioNet has an immediate opportunity for a *B...</td>\n",
       "    </tr>\n",
       "    <tr>\n",
       "      <th>4</th>\n",
       "      <td>Scientific Analyst</td>\n",
       "      <td>Aetion</td>\n",
       "      <td>Boston, MA</td>\n",
       "      <td>Support the development and maintenance of Aet...</td>\n",
       "    </tr>\n",
       "  </tbody>\n",
       "</table>\n",
       "</div>"
      ],
      "text/plain": [
       "                       job_title    company_name  \\\n",
       "0              Reporting Analyst          21Tech   \n",
       "1                   Data Analyst  ABIS Solutions   \n",
       "2              Analyst, (Boston)      AMP Agency   \n",
       "3  Business Intelligence Analyst  ActioNet, Inc.   \n",
       "4             Scientific Analyst          Aetion   \n",
       "\n",
       "                                       location  \\\n",
       "0                                    Boston, MA   \n",
       "1                                    Boston, MA   \n",
       "2  Boston, MA 02114 (Back Bay-Beacon Hill area)   \n",
       "3                                 Cambridge, MA   \n",
       "4                                    Boston, MA   \n",
       "\n",
       "                                             summary  \n",
       "0  Talent Table is looking for aReporting Analyst...  \n",
       "1  Proven working experience as a Data Analyst or...  \n",
       "2  Support the team in contextualizing data trend...  \n",
       "3  ActioNet has an immediate opportunity for a *B...  \n",
       "4  Support the development and maintenance of Aet...  "
      ]
     },
     "execution_count": 19,
     "metadata": {},
     "output_type": "execute_result"
    }
   ],
   "source": [
    "df.head()"
   ]
  },
  {
   "cell_type": "code",
   "execution_count": 20,
   "metadata": {
    "collapsed": true
   },
   "outputs": [],
   "source": [
    "# Our database doesn't like our apostrophes, we can just delete them\n",
    "\n",
    "df['summary'].replace(regex=True,inplace=True,to_replace='\\047',value='')\n",
    "df['job_title'].replace(regex=True,inplace=True,to_replace='\\047',value='')\n",
    "df['company_name'].replace(regex=True,inplace=True,to_replace='\\047',value='')"
   ]
  },
  {
   "cell_type": "code",
   "execution_count": 23,
   "metadata": {
    "collapsed": false
   },
   "outputs": [],
   "source": [
    "# Keep a timestamp so we know how long we've had each job listing for\n",
    "\n",
    "now = datetime.datetime.now()"
   ]
  },
  {
   "cell_type": "code",
   "execution_count": 24,
   "metadata": {
    "collapsed": false
   },
   "outputs": [],
   "source": [
    "# Iterate through the scraped job listings\n",
    "\n",
    "for index, row in df.iterrows():\n",
    "    query = \"\"\"\n",
    "    SELECT job_id from jobs\n",
    "    WHERE job_title = '\"\"\" + row['job_title'] +\"\"\"' AND company_name = '\"\"\" + row['company_name'] + \"\"\"' AND location = '\"\"\" + row['location'] + \"\"\"' AND summary = '\"\"\" + row['summary'] + \"\"\"';\"\"\"\n",
    "    \n",
    "    cur = conn.cursor()\n",
    "    cur.execute(query)\n",
    "    \n",
    "    # If this job listing already exists in the database we'll update the \"last_found\" column\n",
    "    if cur.rowcount > 0:\n",
    "        updateCommand = \"\"\"\n",
    "        UPDATE jobs\n",
    "        SET last_found = '\"\"\" + now.strftime(\"%Y-%m-%d %H:%M\") + \"\"\"' where job_id = \"\"\" + str(cur.fetchone()[0]) + \"\"\";\"\"\"\n",
    "        \n",
    "        cur = conn.cursor()\n",
    "        cur.execute(updateCommand)\n",
    "        cur.close()\n",
    "        conn.commit()\n",
    "    \n",
    "    # If this job listing has not been found yet, we'll insert a new row\n",
    "    else:\n",
    "        command = \"\"\"\n",
    "        INSERT INTO jobs (job_title, company_name, location, summary, first_found, last_found)\n",
    "        VALUES\n",
    "        ('\"\"\" + row['job_title'] + \"\"\"','\"\"\" + row['company_name'] + \"\"\"','\"\"\" + row['location'] + \"\"\"','\"\"\" + row['summary'] + \"\"\"','\"\"\" + now.strftime(\"%Y-%m-%d %H:%M\") +\"\"\"', '\"\"\" +now.strftime(\"%Y-%m-%d %H:%M\")+ \"\"\"');\"\"\"\n",
    "        cur = conn.cursor()\n",
    "        cur.execute(command)\n",
    "        cur.close()\n",
    "        conn.commit()"
   ]
  },
  {
   "cell_type": "code",
   "execution_count": 25,
   "metadata": {
    "collapsed": true
   },
   "outputs": [],
   "source": [
    "cur.close()"
   ]
  }
 ],
 "metadata": {
  "kernelspec": {
   "display_name": "Python 2",
   "language": "python",
   "name": "python2"
  },
  "language_info": {
   "codemirror_mode": {
    "name": "ipython",
    "version": 2
   },
   "file_extension": ".py",
   "mimetype": "text/x-python",
   "name": "python",
   "nbconvert_exporter": "python",
   "pygments_lexer": "ipython2",
   "version": "2.7.13"
  }
 },
 "nbformat": 4,
 "nbformat_minor": 2
}
