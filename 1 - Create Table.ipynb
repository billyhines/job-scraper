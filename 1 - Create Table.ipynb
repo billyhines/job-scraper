{
 "cells": [
  {
   "cell_type": "code",
   "execution_count": 1,
   "metadata": {
    "collapsed": true
   },
   "outputs": [],
   "source": [
    "import pandas as pd\n",
    "import psycopg2"
   ]
  },
  {
   "cell_type": "code",
   "execution_count": 2,
   "metadata": {
    "collapsed": true
   },
   "outputs": [],
   "source": [
    "host = \"localhost\"\n",
    "database = \"jobdb\"\n",
    "user = \"jobuser\"\n",
    "password = \"punch\""
   ]
  },
  {
   "cell_type": "code",
   "execution_count": 3,
   "metadata": {
    "collapsed": true
   },
   "outputs": [],
   "source": [
    "# Make a connection to the database and then create a cursor\n",
    "\n",
    "conn = psycopg2.connect(host=host,database=database, user=user, password=password)\n",
    "cur = conn.cursor()"
   ]
  },
  {
   "cell_type": "code",
   "execution_count": 5,
   "metadata": {
    "collapsed": true
   },
   "outputs": [],
   "source": [
    "# Command to create the database table\n",
    "\n",
    "command = \"\"\"\n",
    "CREATE TABLE jobs (\n",
    "job_id SERIAL PRIMARY KEY,\n",
    "job_title VARCHAR(255) NOT NULL,\n",
    "company_name VARCHAR(255) NOT NULL,\n",
    "location VARCHAR(255) NOT NULL,\n",
    "summary VARCHAR(255) NOT NULL,\n",
    "first_found VARCHAR(255),\n",
    "last_found VARCHAR(255)\n",
    ")\n",
    "\"\"\""
   ]
  },
  {
   "cell_type": "code",
   "execution_count": 6,
   "metadata": {
    "collapsed": false
   },
   "outputs": [],
   "source": [
    "# Execute the command, close the cursor, commit the change, close the connection\n",
    "\n",
    "cur.execute(command)\n",
    "cur.close()\n",
    "conn.commit()\n",
    "conn.close()"
   ]
  }
 ],
 "metadata": {
  "kernelspec": {
   "display_name": "Python 2",
   "language": "python",
   "name": "python2"
  },
  "language_info": {
   "codemirror_mode": {
    "name": "ipython",
    "version": 2
   },
   "file_extension": ".py",
   "mimetype": "text/x-python",
   "name": "python",
   "nbconvert_exporter": "python",
   "pygments_lexer": "ipython2",
   "version": "2.7.13"
  }
 },
 "nbformat": 4,
 "nbformat_minor": 2
}
