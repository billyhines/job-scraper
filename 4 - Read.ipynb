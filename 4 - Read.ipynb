{
 "cells": [
  {
   "cell_type": "code",
   "execution_count": 1,
   "metadata": {
    "collapsed": true
   },
   "outputs": [],
   "source": [
    "import pandas as pd\n",
    "import psycopg2\n",
    "import datetime"
   ]
  },
  {
   "cell_type": "code",
   "execution_count": 2,
   "metadata": {
    "collapsed": true
   },
   "outputs": [],
   "source": [
    "host = \"localhost\"\n",
    "database = \"jobdb\"\n",
    "user = \"jobuser\"\n",
    "password = \"punch\""
   ]
  },
  {
   "cell_type": "code",
   "execution_count": 3,
   "metadata": {
    "collapsed": true
   },
   "outputs": [],
   "source": [
    "conn = psycopg2.connect(host=host,database=database, user=user, password=password)"
   ]
  },
  {
   "cell_type": "code",
   "execution_count": 4,
   "metadata": {
    "collapsed": false
   },
   "outputs": [],
   "source": [
    "# Pull everything from the job database\n",
    "\n",
    "query = \"\"\"SELECT * from jobs\"\"\""
   ]
  },
  {
   "cell_type": "code",
   "execution_count": 5,
   "metadata": {
    "collapsed": false
   },
   "outputs": [],
   "source": [
    "cur = conn.cursor()\n",
    "dfTemp = pd.read_sql(query, con=conn)\n",
    "cur.close()"
   ]
  },
  {
   "cell_type": "code",
   "execution_count": 6,
   "metadata": {
    "collapsed": false
   },
   "outputs": [],
   "source": [
    "# Format the date columns as datetime64 so we can calculate how long the job posting has been up for\n",
    "\n",
    "dfTemp['first_found'] = dfTemp['first_found'].astype('datetime64[ns]')\n",
    "dfTemp['last_found'] = dfTemp['last_found'].astype('datetime64[ns]')\n",
    "dfTemp['timeOnBoard'] = dfTemp['last_found'] - dfTemp['first_found']"
   ]
  },
  {
   "cell_type": "code",
   "execution_count": 9,
   "metadata": {
    "collapsed": false
   },
   "outputs": [],
   "source": [
    "# Sort the listing so that the newest listing appear first\n",
    "\n",
    "dfTemp.sort_values(['last_found', 'timeOnBoard', 'company_name'], ascending=[False, True, True], inplace=True)"
   ]
  },
  {
   "cell_type": "code",
   "execution_count": 10,
   "metadata": {
    "collapsed": true
   },
   "outputs": [],
   "source": [
    "# Print out to .csv for your viewing pleasure\n",
    "\n",
    "dfTemp.to_csv('allJobs.csv')"
   ]
  }
 ],
 "metadata": {
  "kernelspec": {
   "display_name": "Python 2",
   "language": "python",
   "name": "python2"
  },
  "language_info": {
   "codemirror_mode": {
    "name": "ipython",
    "version": 2
   },
   "file_extension": ".py",
   "mimetype": "text/x-python",
   "name": "python",
   "nbconvert_exporter": "python",
   "pygments_lexer": "ipython2",
   "version": "2.7.13"
  }
 },
 "nbformat": 4,
 "nbformat_minor": 2
}
